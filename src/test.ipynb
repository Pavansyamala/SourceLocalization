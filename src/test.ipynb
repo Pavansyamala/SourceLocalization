{
 "cells": [
  {
   "cell_type": "code",
   "execution_count": 1,
   "metadata": {},
   "outputs": [],
   "source": [
    "import pandas as pd"
   ]
  },
  {
   "cell_type": "code",
   "execution_count": 5,
   "metadata": {},
   "outputs": [],
   "source": [
    "data = pd.read_csv(\"C:\\\\Users\\\\PAVAN\\\\OneDrive\\\\Desktop\\\\IIT M Internship\\\\artifacts\\\\data.csv\")"
   ]
  },
  {
   "cell_type": "code",
   "execution_count": 6,
   "metadata": {},
   "outputs": [
    {
     "data": {
      "text/html": [
       "<div>\n",
       "<style scoped>\n",
       "    .dataframe tbody tr th:only-of-type {\n",
       "        vertical-align: middle;\n",
       "    }\n",
       "\n",
       "    .dataframe tbody tr th {\n",
       "        vertical-align: top;\n",
       "    }\n",
       "\n",
       "    .dataframe thead th {\n",
       "        text-align: right;\n",
       "    }\n",
       "</style>\n",
       "<table border=\"1\" class=\"dataframe\">\n",
       "  <thead>\n",
       "    <tr style=\"text-align: right;\">\n",
       "      <th></th>\n",
       "      <th>Unnamed: 0</th>\n",
       "      <th>Transmitter Location</th>\n",
       "      <th>Receiver Location</th>\n",
       "      <th>Magnetic_Vector</th>\n",
       "      <th>Magnetic_Strength</th>\n",
       "      <th>Transmitter Orientation</th>\n",
       "      <th>Reciever Orientation</th>\n",
       "    </tr>\n",
       "  </thead>\n",
       "  <tbody>\n",
       "    <tr>\n",
       "      <th>0</th>\n",
       "      <td>0</td>\n",
       "      <td>[10, 0, 18]</td>\n",
       "      <td>[-10. -10. -10.]</td>\n",
       "      <td>[array([ 1.52637256e-06,  7.26308328e-07, -4.5...</td>\n",
       "      <td>0.000002</td>\n",
       "      <td>[np.float64(-90.0), np.float64(-30.0), np.floa...</td>\n",
       "      <td>[np.float64(-90.0), np.float64(-30.0), np.floa...</td>\n",
       "    </tr>\n",
       "    <tr>\n",
       "      <th>1</th>\n",
       "      <td>1</td>\n",
       "      <td>[10, 0, 18]</td>\n",
       "      <td>[-10. -10. -10.]</td>\n",
       "      <td>[array([-3.30903163e-07, -3.45990308e-07, -1.6...</td>\n",
       "      <td>0.000002</td>\n",
       "      <td>[np.float64(-90.0), np.float64(-30.0), np.floa...</td>\n",
       "      <td>[np.float64(-90.0), np.float64(-30.0), np.floa...</td>\n",
       "    </tr>\n",
       "    <tr>\n",
       "      <th>2</th>\n",
       "      <td>2</td>\n",
       "      <td>[10, 0, 18]</td>\n",
       "      <td>[-10. -10. -10.]</td>\n",
       "      <td>[array([-1.39218774e-06, -9.58723245e-07,  4.5...</td>\n",
       "      <td>0.000002</td>\n",
       "      <td>[np.float64(-90.0), np.float64(-30.0), np.floa...</td>\n",
       "      <td>[np.float64(-90.0), np.float64(-30.0), np.floa...</td>\n",
       "    </tr>\n",
       "    <tr>\n",
       "      <th>3</th>\n",
       "      <td>3</td>\n",
       "      <td>[10, 0, 18]</td>\n",
       "      <td>[-10. -10. -10.]</td>\n",
       "      <td>[array([4.65087978e-07, 1.13575391e-07, 1.6850...</td>\n",
       "      <td>0.000002</td>\n",
       "      <td>[np.float64(-90.0), np.float64(-30.0), np.floa...</td>\n",
       "      <td>[np.float64(-90.0), np.float64(-30.0), np.floa...</td>\n",
       "    </tr>\n",
       "    <tr>\n",
       "      <th>4</th>\n",
       "      <td>4</td>\n",
       "      <td>[10, 0, 18]</td>\n",
       "      <td>[-10. -10. -10.]</td>\n",
       "      <td>[array([ 1.52637256e-06,  7.26308328e-07, -4.5...</td>\n",
       "      <td>0.000002</td>\n",
       "      <td>[np.float64(-90.0), np.float64(-30.0), np.floa...</td>\n",
       "      <td>[np.float64(-90.0), np.float64(-30.0), np.floa...</td>\n",
       "    </tr>\n",
       "  </tbody>\n",
       "</table>\n",
       "</div>"
      ],
      "text/plain": [
       "   Unnamed: 0 Transmitter Location Receiver Location  \\\n",
       "0           0          [10, 0, 18]  [-10. -10. -10.]   \n",
       "1           1          [10, 0, 18]  [-10. -10. -10.]   \n",
       "2           2          [10, 0, 18]  [-10. -10. -10.]   \n",
       "3           3          [10, 0, 18]  [-10. -10. -10.]   \n",
       "4           4          [10, 0, 18]  [-10. -10. -10.]   \n",
       "\n",
       "                                     Magnetic_Vector  Magnetic_Strength  \\\n",
       "0  [array([ 1.52637256e-06,  7.26308328e-07, -4.5...           0.000002   \n",
       "1  [array([-3.30903163e-07, -3.45990308e-07, -1.6...           0.000002   \n",
       "2  [array([-1.39218774e-06, -9.58723245e-07,  4.5...           0.000002   \n",
       "3  [array([4.65087978e-07, 1.13575391e-07, 1.6850...           0.000002   \n",
       "4  [array([ 1.52637256e-06,  7.26308328e-07, -4.5...           0.000002   \n",
       "\n",
       "                             Transmitter Orientation  \\\n",
       "0  [np.float64(-90.0), np.float64(-30.0), np.floa...   \n",
       "1  [np.float64(-90.0), np.float64(-30.0), np.floa...   \n",
       "2  [np.float64(-90.0), np.float64(-30.0), np.floa...   \n",
       "3  [np.float64(-90.0), np.float64(-30.0), np.floa...   \n",
       "4  [np.float64(-90.0), np.float64(-30.0), np.floa...   \n",
       "\n",
       "                                Reciever Orientation  \n",
       "0  [np.float64(-90.0), np.float64(-30.0), np.floa...  \n",
       "1  [np.float64(-90.0), np.float64(-30.0), np.floa...  \n",
       "2  [np.float64(-90.0), np.float64(-30.0), np.floa...  \n",
       "3  [np.float64(-90.0), np.float64(-30.0), np.floa...  \n",
       "4  [np.float64(-90.0), np.float64(-30.0), np.floa...  "
      ]
     },
     "execution_count": 6,
     "metadata": {},
     "output_type": "execute_result"
    }
   ],
   "source": [
    "data.head()"
   ]
  },
  {
   "cell_type": "code",
   "execution_count": 7,
   "metadata": {},
   "outputs": [
    {
     "data": {
      "text/plain": [
       "(25959364, 7)"
      ]
     },
     "execution_count": 7,
     "metadata": {},
     "output_type": "execute_result"
    }
   ],
   "source": [
    "data.shape"
   ]
  },
  {
   "cell_type": "code",
   "execution_count": 8,
   "metadata": {},
   "outputs": [
    {
     "ename": "",
     "evalue": "",
     "output_type": "error",
     "traceback": [
      "\u001b[1;31mThe Kernel crashed while executing code in the current cell or a previous cell. \n",
      "\u001b[1;31mPlease review the code in the cell(s) to identify a possible cause of the failure. \n",
      "\u001b[1;31mClick <a href='https://aka.ms/vscodeJupyterKernelCrash'>here</a> for more info. \n",
      "\u001b[1;31mView Jupyter <a href='command:jupyter.viewOutput'>log</a> for further details."
     ]
    }
   ],
   "source": [
    "data.duplicated().sum()"
   ]
  },
  {
   "cell_type": "code",
   "execution_count": null,
   "metadata": {},
   "outputs": [],
   "source": []
  }
 ],
 "metadata": {
  "kernelspec": {
   "display_name": "Python 3",
   "language": "python",
   "name": "python3"
  },
  "language_info": {
   "codemirror_mode": {
    "name": "ipython",
    "version": 3
   },
   "file_extension": ".py",
   "mimetype": "text/x-python",
   "name": "python",
   "nbconvert_exporter": "python",
   "pygments_lexer": "ipython3",
   "version": "3.9.19"
  }
 },
 "nbformat": 4,
 "nbformat_minor": 2
}
