{
 "cells": [
  {
   "cell_type": "code",
   "execution_count": 1,
   "id": "1aee20bf",
   "metadata": {},
   "outputs": [],
   "source": [
    "import numpy as np\n",
    "import pandas as pd\n",
    "import tensorflow\n",
    "from tensorflow import keras"
   ]
  },
  {
   "cell_type": "code",
   "execution_count": 110,
   "id": "275b71bc",
   "metadata": {},
   "outputs": [],
   "source": [
    "import warnings\n",
    "warnings.filterwarnings('ignore', category=UserWarning)"
   ]
  },
  {
   "cell_type": "code",
   "execution_count": 88,
   "id": "e8ca07ef",
   "metadata": {},
   "outputs": [],
   "source": [
    "from sklearn.model_selection import train_test_split"
   ]
  },
  {
   "cell_type": "code",
   "execution_count": 2,
   "id": "00ad69ae",
   "metadata": {},
   "outputs": [],
   "source": [
    "data_path = \"D:\\\\SourceLocalization.csv\""
   ]
  },
  {
   "cell_type": "code",
   "execution_count": 3,
   "id": "3803263a",
   "metadata": {},
   "outputs": [],
   "source": [
    "data = pd.read_csv(data_path)"
   ]
  },
  {
   "cell_type": "code",
   "execution_count": 5,
   "id": "230b4123",
   "metadata": {},
   "outputs": [
    {
     "data": {
      "text/plain": [
       "(1000000, 9)"
      ]
     },
     "execution_count": 5,
     "metadata": {},
     "output_type": "execute_result"
    }
   ],
   "source": [
    "data.shape"
   ]
  },
  {
   "cell_type": "code",
   "execution_count": 6,
   "id": "252698f7",
   "metadata": {},
   "outputs": [],
   "source": [
    "set1_path = \"D:/DataIITM/data1.csv\""
   ]
  },
  {
   "cell_type": "code",
   "execution_count": 7,
   "id": "68d0639e",
   "metadata": {},
   "outputs": [],
   "source": [
    "set1 = pd.read_csv(set1_path)"
   ]
  },
  {
   "cell_type": "code",
   "execution_count": 8,
   "id": "cee99a63",
   "metadata": {},
   "outputs": [
    {
     "data": {
      "text/html": [
       "<div>\n",
       "<style scoped>\n",
       "    .dataframe tbody tr th:only-of-type {\n",
       "        vertical-align: middle;\n",
       "    }\n",
       "\n",
       "    .dataframe tbody tr th {\n",
       "        vertical-align: top;\n",
       "    }\n",
       "\n",
       "    .dataframe thead th {\n",
       "        text-align: right;\n",
       "    }\n",
       "</style>\n",
       "<table border=\"1\" class=\"dataframe\">\n",
       "  <thead>\n",
       "    <tr style=\"text-align: right;\">\n",
       "      <th></th>\n",
       "      <th>Unnamed: 0</th>\n",
       "      <th>Transmitter Location</th>\n",
       "      <th>Receiver Location</th>\n",
       "      <th>Magnetic_Vector</th>\n",
       "      <th>Transmitter Orientation</th>\n",
       "      <th>Reciever Orientation</th>\n",
       "      <th>target_x</th>\n",
       "      <th>target_y</th>\n",
       "      <th>target_z</th>\n",
       "    </tr>\n",
       "  </thead>\n",
       "  <tbody>\n",
       "    <tr>\n",
       "      <th>0</th>\n",
       "      <td>0</td>\n",
       "      <td>[10.  0. 18.]</td>\n",
       "      <td>[-10. -10. -10.]</td>\n",
       "      <td>(1.52637256e-06, 7.26308328e-07, -4.59565699e-07)</td>\n",
       "      <td>(-90.0, -30.0, -180.0)</td>\n",
       "      <td>(-90.0, -30.0, -180.0)</td>\n",
       "      <td>-28.275363</td>\n",
       "      <td>9.495643</td>\n",
       "      <td>-19.857911</td>\n",
       "    </tr>\n",
       "    <tr>\n",
       "      <th>1</th>\n",
       "      <td>1</td>\n",
       "      <td>[10.  0. 18.]</td>\n",
       "      <td>[-10. -10. -10.]</td>\n",
       "      <td>(-3.30903163e-07, -3.45990308e-07, -1.68503157...</td>\n",
       "      <td>(-90.0, -30.0, -180.0)</td>\n",
       "      <td>(-90.0, -30.0, -90.0)</td>\n",
       "      <td>-30.426208</td>\n",
       "      <td>5.947252</td>\n",
       "      <td>17.968752</td>\n",
       "    </tr>\n",
       "    <tr>\n",
       "      <th>2</th>\n",
       "      <td>2</td>\n",
       "      <td>[10.  0. 18.]</td>\n",
       "      <td>[-10. -10. -10.]</td>\n",
       "      <td>(-1.39218774e-06, -9.58723245e-07, 4.59565699e...</td>\n",
       "      <td>(-90.0, -30.0, -180.0)</td>\n",
       "      <td>(-90.0, -30.0, 0.0)</td>\n",
       "      <td>-24.579856</td>\n",
       "      <td>-26.007884</td>\n",
       "      <td>-1.849500</td>\n",
       "    </tr>\n",
       "    <tr>\n",
       "      <th>3</th>\n",
       "      <td>3</td>\n",
       "      <td>[10.  0. 18.]</td>\n",
       "      <td>[-10. -10. -10.]</td>\n",
       "      <td>(4.65087978e-07, 1.13575391e-07, 1.68503157e-06)</td>\n",
       "      <td>(-90.0, -30.0, -180.0)</td>\n",
       "      <td>(-90.0, -30.0, 90.0)</td>\n",
       "      <td>-27.668203</td>\n",
       "      <td>6.177014</td>\n",
       "      <td>-21.916091</td>\n",
       "    </tr>\n",
       "    <tr>\n",
       "      <th>4</th>\n",
       "      <td>4</td>\n",
       "      <td>[10.  0. 18.]</td>\n",
       "      <td>[-10. -10. -10.]</td>\n",
       "      <td>(1.52637256e-06, 7.26308328e-07, -4.59565699e-07)</td>\n",
       "      <td>(-90.0, -30.0, -180.0)</td>\n",
       "      <td>(-90.0, -30.0, 180.0)</td>\n",
       "      <td>-30.746942</td>\n",
       "      <td>9.289743</td>\n",
       "      <td>15.884780</td>\n",
       "    </tr>\n",
       "  </tbody>\n",
       "</table>\n",
       "</div>"
      ],
      "text/plain": [
       "   Unnamed: 0 Transmitter Location Receiver Location  ...   target_x   target_y   target_z\n",
       "0           0        [10.  0. 18.]  [-10. -10. -10.]  ... -28.275363   9.495643 -19.857911\n",
       "1           1        [10.  0. 18.]  [-10. -10. -10.]  ... -30.426208   5.947252  17.968752\n",
       "2           2        [10.  0. 18.]  [-10. -10. -10.]  ... -24.579856 -26.007884  -1.849500\n",
       "3           3        [10.  0. 18.]  [-10. -10. -10.]  ... -27.668203   6.177014 -21.916091\n",
       "4           4        [10.  0. 18.]  [-10. -10. -10.]  ... -30.746942   9.289743  15.884780\n",
       "\n",
       "[5 rows x 9 columns]"
      ]
     },
     "execution_count": 8,
     "metadata": {},
     "output_type": "execute_result"
    }
   ],
   "source": [
    "set1.head()"
   ]
  },
  {
   "cell_type": "code",
   "execution_count": 9,
   "id": "d98cbdca",
   "metadata": {},
   "outputs": [
    {
     "name": "stdout",
     "output_type": "stream",
     "text": [
      "<class 'pandas.core.frame.DataFrame'>\n",
      "RangeIndex: 5000000 entries, 0 to 4999999\n",
      "Data columns (total 9 columns):\n",
      " #   Column                   Dtype  \n",
      "---  ------                   -----  \n",
      " 0   Unnamed: 0               int64  \n",
      " 1   Transmitter Location     object \n",
      " 2   Receiver Location        object \n",
      " 3   Magnetic_Vector          object \n",
      " 4   Transmitter Orientation  object \n",
      " 5   Reciever Orientation     object \n",
      " 6   target_x                 float64\n",
      " 7   target_y                 float64\n",
      " 8   target_z                 float64\n",
      "dtypes: float64(3), int64(1), object(5)\n",
      "memory usage: 343.3+ MB\n"
     ]
    }
   ],
   "source": [
    "set1.info()"
   ]
  },
  {
   "cell_type": "code",
   "execution_count": 10,
   "id": "08638292",
   "metadata": {},
   "outputs": [],
   "source": [
    "set1.drop(columns = ['Unnamed: 0'] , inplace = True)"
   ]
  },
  {
   "cell_type": "code",
   "execution_count": 12,
   "id": "a1578e2b",
   "metadata": {},
   "outputs": [
    {
     "data": {
      "text/html": [
       "<div>\n",
       "<style scoped>\n",
       "    .dataframe tbody tr th:only-of-type {\n",
       "        vertical-align: middle;\n",
       "    }\n",
       "\n",
       "    .dataframe tbody tr th {\n",
       "        vertical-align: top;\n",
       "    }\n",
       "\n",
       "    .dataframe thead th {\n",
       "        text-align: right;\n",
       "    }\n",
       "</style>\n",
       "<table border=\"1\" class=\"dataframe\">\n",
       "  <thead>\n",
       "    <tr style=\"text-align: right;\">\n",
       "      <th></th>\n",
       "      <th>Transmitter Location</th>\n",
       "      <th>Receiver Location</th>\n",
       "      <th>Magnetic_Vector</th>\n",
       "      <th>Transmitter Orientation</th>\n",
       "      <th>Reciever Orientation</th>\n",
       "      <th>target_x</th>\n",
       "      <th>target_y</th>\n",
       "      <th>target_z</th>\n",
       "    </tr>\n",
       "  </thead>\n",
       "  <tbody>\n",
       "    <tr>\n",
       "      <th>0</th>\n",
       "      <td>[10.  0. 18.]</td>\n",
       "      <td>[-10. -10. -10.]</td>\n",
       "      <td>(1.52637256e-06, 7.26308328e-07, -4.59565699e-07)</td>\n",
       "      <td>(-90.0, -30.0, -180.0)</td>\n",
       "      <td>(-90.0, -30.0, -180.0)</td>\n",
       "      <td>-28.275363</td>\n",
       "      <td>9.495643</td>\n",
       "      <td>-19.857911</td>\n",
       "    </tr>\n",
       "    <tr>\n",
       "      <th>1</th>\n",
       "      <td>[10.  0. 18.]</td>\n",
       "      <td>[-10. -10. -10.]</td>\n",
       "      <td>(-3.30903163e-07, -3.45990308e-07, -1.68503157...</td>\n",
       "      <td>(-90.0, -30.0, -180.0)</td>\n",
       "      <td>(-90.0, -30.0, -90.0)</td>\n",
       "      <td>-30.426208</td>\n",
       "      <td>5.947252</td>\n",
       "      <td>17.968752</td>\n",
       "    </tr>\n",
       "    <tr>\n",
       "      <th>2</th>\n",
       "      <td>[10.  0. 18.]</td>\n",
       "      <td>[-10. -10. -10.]</td>\n",
       "      <td>(-1.39218774e-06, -9.58723245e-07, 4.59565699e...</td>\n",
       "      <td>(-90.0, -30.0, -180.0)</td>\n",
       "      <td>(-90.0, -30.0, 0.0)</td>\n",
       "      <td>-24.579856</td>\n",
       "      <td>-26.007884</td>\n",
       "      <td>-1.849500</td>\n",
       "    </tr>\n",
       "    <tr>\n",
       "      <th>3</th>\n",
       "      <td>[10.  0. 18.]</td>\n",
       "      <td>[-10. -10. -10.]</td>\n",
       "      <td>(4.65087978e-07, 1.13575391e-07, 1.68503157e-06)</td>\n",
       "      <td>(-90.0, -30.0, -180.0)</td>\n",
       "      <td>(-90.0, -30.0, 90.0)</td>\n",
       "      <td>-27.668203</td>\n",
       "      <td>6.177014</td>\n",
       "      <td>-21.916091</td>\n",
       "    </tr>\n",
       "    <tr>\n",
       "      <th>4</th>\n",
       "      <td>[10.  0. 18.]</td>\n",
       "      <td>[-10. -10. -10.]</td>\n",
       "      <td>(1.52637256e-06, 7.26308328e-07, -4.59565699e-07)</td>\n",
       "      <td>(-90.0, -30.0, -180.0)</td>\n",
       "      <td>(-90.0, -30.0, 180.0)</td>\n",
       "      <td>-30.746942</td>\n",
       "      <td>9.289743</td>\n",
       "      <td>15.884780</td>\n",
       "    </tr>\n",
       "  </tbody>\n",
       "</table>\n",
       "</div>"
      ],
      "text/plain": [
       "  Transmitter Location Receiver Location  ...   target_y   target_z\n",
       "0        [10.  0. 18.]  [-10. -10. -10.]  ...   9.495643 -19.857911\n",
       "1        [10.  0. 18.]  [-10. -10. -10.]  ...   5.947252  17.968752\n",
       "2        [10.  0. 18.]  [-10. -10. -10.]  ... -26.007884  -1.849500\n",
       "3        [10.  0. 18.]  [-10. -10. -10.]  ...   6.177014 -21.916091\n",
       "4        [10.  0. 18.]  [-10. -10. -10.]  ...   9.289743  15.884780\n",
       "\n",
       "[5 rows x 8 columns]"
      ]
     },
     "execution_count": 12,
     "metadata": {},
     "output_type": "execute_result"
    }
   ],
   "source": [
    "set1.head()"
   ]
  },
  {
   "cell_type": "code",
   "execution_count": 14,
   "id": "620972e6",
   "metadata": {},
   "outputs": [],
   "source": [
    "target_columns = []\n",
    "training_columns = []\n",
    "for i in set1.columns:\n",
    "    if i[0].lower() == 't' :\n",
    "        target_columns.append(i)\n",
    "    else : \n",
    "        training_columns.append(i)"
   ]
  },
  {
   "cell_type": "code",
   "execution_count": 15,
   "id": "a1e5c7a5",
   "metadata": {},
   "outputs": [
    {
     "data": {
      "text/plain": [
       "['Receiver Location', 'Magnetic_Vector', 'Reciever Orientation']"
      ]
     },
     "execution_count": 15,
     "metadata": {},
     "output_type": "execute_result"
    }
   ],
   "source": [
    "training_columns"
   ]
  },
  {
   "cell_type": "code",
   "execution_count": 16,
   "id": "b961bf50",
   "metadata": {},
   "outputs": [
    {
     "data": {
      "text/plain": [
       "['Transmitter Location',\n",
       " 'Transmitter Orientation',\n",
       " 'target_x',\n",
       " 'target_y',\n",
       " 'target_z']"
      ]
     },
     "execution_count": 16,
     "metadata": {},
     "output_type": "execute_result"
    }
   ],
   "source": [
    "target_columns"
   ]
  },
  {
   "cell_type": "code",
   "execution_count": 17,
   "id": "f113ed1d",
   "metadata": {},
   "outputs": [],
   "source": [
    "training_set = set1[training_columns]"
   ]
  },
  {
   "cell_type": "code",
   "execution_count": 19,
   "id": "2289cdc4",
   "metadata": {},
   "outputs": [],
   "source": [
    "target_set = set1[target_columns]"
   ]
  },
  {
   "cell_type": "code",
   "execution_count": 20,
   "id": "5a93c40f",
   "metadata": {},
   "outputs": [
    {
     "data": {
      "text/html": [
       "<div>\n",
       "<style scoped>\n",
       "    .dataframe tbody tr th:only-of-type {\n",
       "        vertical-align: middle;\n",
       "    }\n",
       "\n",
       "    .dataframe tbody tr th {\n",
       "        vertical-align: top;\n",
       "    }\n",
       "\n",
       "    .dataframe thead th {\n",
       "        text-align: right;\n",
       "    }\n",
       "</style>\n",
       "<table border=\"1\" class=\"dataframe\">\n",
       "  <thead>\n",
       "    <tr style=\"text-align: right;\">\n",
       "      <th></th>\n",
       "      <th>Receiver Location</th>\n",
       "      <th>Magnetic_Vector</th>\n",
       "      <th>Reciever Orientation</th>\n",
       "    </tr>\n",
       "  </thead>\n",
       "  <tbody>\n",
       "    <tr>\n",
       "      <th>0</th>\n",
       "      <td>[-10. -10. -10.]</td>\n",
       "      <td>(1.52637256e-06, 7.26308328e-07, -4.59565699e-07)</td>\n",
       "      <td>(-90.0, -30.0, -180.0)</td>\n",
       "    </tr>\n",
       "    <tr>\n",
       "      <th>1</th>\n",
       "      <td>[-10. -10. -10.]</td>\n",
       "      <td>(-3.30903163e-07, -3.45990308e-07, -1.68503157...</td>\n",
       "      <td>(-90.0, -30.0, -90.0)</td>\n",
       "    </tr>\n",
       "    <tr>\n",
       "      <th>2</th>\n",
       "      <td>[-10. -10. -10.]</td>\n",
       "      <td>(-1.39218774e-06, -9.58723245e-07, 4.59565699e...</td>\n",
       "      <td>(-90.0, -30.0, 0.0)</td>\n",
       "    </tr>\n",
       "    <tr>\n",
       "      <th>3</th>\n",
       "      <td>[-10. -10. -10.]</td>\n",
       "      <td>(4.65087978e-07, 1.13575391e-07, 1.68503157e-06)</td>\n",
       "      <td>(-90.0, -30.0, 90.0)</td>\n",
       "    </tr>\n",
       "    <tr>\n",
       "      <th>4</th>\n",
       "      <td>[-10. -10. -10.]</td>\n",
       "      <td>(1.52637256e-06, 7.26308328e-07, -4.59565699e-07)</td>\n",
       "      <td>(-90.0, -30.0, 180.0)</td>\n",
       "    </tr>\n",
       "  </tbody>\n",
       "</table>\n",
       "</div>"
      ],
      "text/plain": [
       "  Receiver Location                                    Magnetic_Vector    Reciever Orientation\n",
       "0  [-10. -10. -10.]  (1.52637256e-06, 7.26308328e-07, -4.59565699e-07)  (-90.0, -30.0, -180.0)\n",
       "1  [-10. -10. -10.]  (-3.30903163e-07, -3.45990308e-07, -1.68503157...   (-90.0, -30.0, -90.0)\n",
       "2  [-10. -10. -10.]  (-1.39218774e-06, -9.58723245e-07, 4.59565699e...     (-90.0, -30.0, 0.0)\n",
       "3  [-10. -10. -10.]   (4.65087978e-07, 1.13575391e-07, 1.68503157e-06)    (-90.0, -30.0, 90.0)\n",
       "4  [-10. -10. -10.]  (1.52637256e-06, 7.26308328e-07, -4.59565699e-07)   (-90.0, -30.0, 180.0)"
      ]
     },
     "execution_count": 20,
     "metadata": {},
     "output_type": "execute_result"
    }
   ],
   "source": [
    "training_set.head()"
   ]
  },
  {
   "cell_type": "markdown",
   "id": "860d3e76",
   "metadata": {},
   "source": [
    "## Preparing the Data For Training "
   ]
  },
  {
   "cell_type": "code",
   "execution_count": null,
   "id": "a3da2c3f",
   "metadata": {},
   "outputs": [],
   "source": []
  },
  {
   "cell_type": "code",
   "execution_count": 66,
   "id": "ca22b54c",
   "metadata": {},
   "outputs": [],
   "source": [
    "def columns_seperation(feature):\n",
    "    \n",
    "    x_com = []\n",
    "    y_com = []\n",
    "    z_com = []\n",
    "    for i in feature:\n",
    "        ## For reciever location in split function dont use anything as it has seperated by spaces\n",
    "        x , y , z = list(map(float , i[1:-1].split(','))) \n",
    "        x_com.append(x)\n",
    "        y_com.append(y)\n",
    "        z_com.append(z)\n",
    "    return x_com , y_com , z_com"
   ]
  },
  {
   "cell_type": "code",
   "execution_count": 50,
   "id": "5d16ae08",
   "metadata": {},
   "outputs": [],
   "source": [
    "rec_x , rec_y , rec_z = columns_seperation(training_set['Receiver Location'])"
   ]
  },
  {
   "cell_type": "code",
   "execution_count": 67,
   "id": "118d79d9",
   "metadata": {},
   "outputs": [],
   "source": [
    "mag_x , mag_y , mag_z = columns_seperation(training_set['Magnetic_Vector'])"
   ]
  },
  {
   "cell_type": "code",
   "execution_count": 77,
   "id": "7b15e52c",
   "metadata": {},
   "outputs": [],
   "source": [
    "ori_x , ori_y , ori_z = columns_seperation(training_set['Reciever Orientation'])"
   ]
  },
  {
   "cell_type": "code",
   "execution_count": null,
   "id": "b30bad8d",
   "metadata": {},
   "outputs": [],
   "source": []
  },
  {
   "cell_type": "code",
   "execution_count": 81,
   "id": "379404f7",
   "metadata": {},
   "outputs": [],
   "source": [
    "data = {\n",
    "    'rec_x':rec_x , 'rec_y':rec_y , 'rec_z':rec_z,\n",
    "    'mag_x':mag_x , 'mag_z':mag_y , 'mag_z':mag_z ,\n",
    "    'roll_r':ori_x , 'pitch_r':ori_y , 'yaw_r':ori_z\n",
    "}"
   ]
  },
  {
   "cell_type": "code",
   "execution_count": 83,
   "id": "29f6d1f2",
   "metadata": {},
   "outputs": [],
   "source": [
    "training_data = pd.DataFrame(data)"
   ]
  },
  {
   "cell_type": "code",
   "execution_count": 87,
   "id": "a9b6b29d",
   "metadata": {},
   "outputs": [],
   "source": [
    "target_data = target_set[['target_x' , 'target_y' , 'target_z']]"
   ]
  },
  {
   "cell_type": "code",
   "execution_count": 97,
   "id": "9bd77d5c",
   "metadata": {},
   "outputs": [],
   "source": [
    "train_x , test_x , train_y , test_y = train_test_split(training_data , target_data , train_size=0.8 , random_state=42)"
   ]
  },
  {
   "cell_type": "code",
   "execution_count": 98,
   "id": "8f33fef5",
   "metadata": {},
   "outputs": [],
   "source": [
    "train_x , val_x , train_y , val_y = train_test_split(train_x , train_y , train_size=0.8 , random_state=42)"
   ]
  },
  {
   "cell_type": "code",
   "execution_count": 99,
   "id": "d2f4daaf",
   "metadata": {},
   "outputs": [
    {
     "data": {
      "text/plain": [
       "(3200000, 800000, 1000000)"
      ]
     },
     "execution_count": 99,
     "metadata": {},
     "output_type": "execute_result"
    }
   ],
   "source": [
    "len(train_x) , len(val_x) , len(test_x)"
   ]
  },
  {
   "cell_type": "code",
   "execution_count": 102,
   "id": "f1de0ea2",
   "metadata": {},
   "outputs": [
    {
     "data": {
      "text/plain": [
       "(3200000, 8)"
      ]
     },
     "execution_count": 102,
     "metadata": {},
     "output_type": "execute_result"
    }
   ],
   "source": [
    "train_x.shape"
   ]
  },
  {
   "cell_type": "code",
   "execution_count": 108,
   "id": "c56044ac",
   "metadata": {},
   "outputs": [],
   "source": [
    "from keras.models import Sequential\n",
    "from keras.layers import Dense , Dropout , BatchNormalization , Input\n",
    "from keras.losses import mean_squared_error \n",
    "from keras.optimizers import RMSprop\n",
    "from keras.activations import selu\n",
    "from keras.metrics import R2Score"
   ]
  },
  {
   "cell_type": "code",
   "execution_count": 154,
   "id": "1bd9d544",
   "metadata": {},
   "outputs": [],
   "source": [
    "model = Sequential()\n",
    "model.add(Input(shape=(8,)))\n",
    "model.add(Dense(8 , activation= 'linear'))\n",
    "# model.add(BatchNormalization())\n",
    "model.add(Dense(16 , activation= 'linear'))\n",
    "# model.add(BatchNormalization())\n",
    "model.add(Dense(24 , activation= 'linear'))\n",
    "# model.add(BatchNormalization())\n",
    "# model.add(Dropout(0.1))\n",
    "model.add(Dense(56 , activation= 'selu'))\n",
    "# model.add(Dense(64 , activation= 'linear'))\n",
    "# model.add(Dense(64 , activation= 'linear'))\n",
    "# model.add(Dense(56 , activation= 'linear'))\n",
    "model.add(Dense(24 , activation= 'linear'))\n",
    "# model.add(BatchNormalization())\n",
    "model.add(Dense(16 , activation= 'linear'))\n",
    "model.add(Dense(8 , activation= 'linear'))\n",
    "model.add(Dense(3 , activation='linear'))"
   ]
  },
  {
   "cell_type": "code",
   "execution_count": 155,
   "id": "0000ad57",
   "metadata": {},
   "outputs": [],
   "source": [
    "model.compile(loss = mean_squared_error , metrics=[R2Score()])"
   ]
  },
  {
   "cell_type": "code",
   "execution_count": 156,
   "id": "16b717ca",
   "metadata": {},
   "outputs": [
    {
     "name": "stdout",
     "output_type": "stream",
     "text": [
      "Model: \"sequential_13\"\n",
      "_________________________________________________________________\n",
      " Layer (type)                Output Shape              Param #   \n",
      "=================================================================\n",
      " dense_94 (Dense)            (None, 8)                 72        \n",
      "                                                                 \n",
      " dense_95 (Dense)            (None, 16)                144       \n",
      "                                                                 \n",
      " dense_96 (Dense)            (None, 24)                408       \n",
      "                                                                 \n",
      " dense_97 (Dense)            (None, 56)                1400      \n",
      "                                                                 \n",
      " dense_98 (Dense)            (None, 24)                1368      \n",
      "                                                                 \n",
      " dense_99 (Dense)            (None, 16)                400       \n",
      "                                                                 \n",
      " dense_100 (Dense)           (None, 8)                 136       \n",
      "                                                                 \n",
      " dense_101 (Dense)           (None, 3)                 27        \n",
      "                                                                 \n",
      "=================================================================\n",
      "Total params: 3955 (15.45 KB)\n",
      "Trainable params: 3955 (15.45 KB)\n",
      "Non-trainable params: 0 (0.00 Byte)\n",
      "_________________________________________________________________\n"
     ]
    }
   ],
   "source": [
    "model.summary()"
   ]
  },
  {
   "cell_type": "code",
   "execution_count": 157,
   "id": "bfc095eb",
   "metadata": {},
   "outputs": [
    {
     "name": "stdout",
     "output_type": "stream",
     "text": [
      "Epoch 1/2\n",
      "100000/100000 [==============================] - 919s 9ms/step - loss: 120.6849 - r2_score: 0.7188 - val_loss: 82.0765 - val_r2_score: 0.8085\n",
      "Epoch 2/2\n",
      "100000/100000 [==============================] - 582s 6ms/step - loss: 77.7025 - r2_score: 0.8190 - val_loss: 72.9446 - val_r2_score: 0.8297\n"
     ]
    }
   ],
   "source": [
    "history = model.fit(x = train_x.values , y = train_y.values , validation_data= [val_x.values , val_y.values] , epochs=2)"
   ]
  },
  {
   "cell_type": "code",
   "execution_count": 180,
   "id": "96df3254",
   "metadata": {},
   "outputs": [],
   "source": [
    "import json"
   ]
  },
  {
   "cell_type": "code",
   "execution_count": 185,
   "id": "e19d9ed3",
   "metadata": {},
   "outputs": [
    {
     "name": "stdout",
     "output_type": "stream",
     "text": [
      "INFO:tensorflow:Assets written to: D:/DataIITM/Model\\assets\n"
     ]
    },
    {
     "name": "stderr",
     "output_type": "stream",
     "text": [
      "INFO:tensorflow:Assets written to: D:/DataIITM/Model\\assets\n"
     ]
    }
   ],
   "source": [
    "model.save('D:/DataIITM/Model')"
   ]
  },
  {
   "cell_type": "code",
   "execution_count": null,
   "id": "60232e7f",
   "metadata": {},
   "outputs": [],
   "source": []
  },
  {
   "cell_type": "code",
   "execution_count": null,
   "id": "58910342",
   "metadata": {},
   "outputs": [],
   "source": []
  },
  {
   "cell_type": "code",
   "execution_count": null,
   "id": "7ba22a2b",
   "metadata": {},
   "outputs": [],
   "source": []
  },
  {
   "cell_type": "code",
   "execution_count": null,
   "id": "e040da4d",
   "metadata": {},
   "outputs": [],
   "source": []
  },
  {
   "cell_type": "code",
   "execution_count": null,
   "id": "c5ff2a98",
   "metadata": {},
   "outputs": [],
   "source": []
  },
  {
   "cell_type": "code",
   "execution_count": null,
   "id": "afcd6398",
   "metadata": {},
   "outputs": [],
   "source": []
  },
  {
   "cell_type": "code",
   "execution_count": null,
   "id": "f3b25ff9",
   "metadata": {},
   "outputs": [],
   "source": []
  }
 ],
 "metadata": {
  "kernelspec": {
   "display_name": "Python 3 (ipykernel)",
   "language": "python",
   "name": "python3"
  },
  "language_info": {
   "codemirror_mode": {
    "name": "ipython",
    "version": 3
   },
   "file_extension": ".py",
   "mimetype": "text/x-python",
   "name": "python",
   "nbconvert_exporter": "python",
   "pygments_lexer": "ipython3",
   "version": "3.11.5"
  }
 },
 "nbformat": 4,
 "nbformat_minor": 5
}
